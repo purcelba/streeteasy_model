{
 "cells": [
  {
   "cell_type": "markdown",
   "metadata": {
    "deletable": true,
    "editable": true
   },
   "source": [
    "# streeteasy_model: Model development and evaluation"
   ]
  },
  {
   "cell_type": "markdown",
   "metadata": {
    "deletable": true,
    "editable": true
   },
   "source": [
    "The purpose of this notebook is to evaluate a series of models to predict the rental price of units in NYC.  The data were scraped from streeteasy.com from 11/02/2016 to 1/31/2017 and stored in the SQLite database, streeteasy_db.sqlite.  "
   ]
  },
  {
   "cell_type": "code",
   "execution_count": 1,
   "metadata": {
    "collapsed": true,
    "deletable": true,
    "editable": true
   },
   "outputs": [],
   "source": [
    "#add the main directory to the path for access to feateng.py modules\n",
    "import os\n",
    "import sys\n",
    "module_path = os.path.abspath(os.path.join('..'))\n",
    "if module_path not in sys.path:\n",
    "    sys.path.append(module_path)"
   ]
  },
  {
   "cell_type": "code",
   "execution_count": 2,
   "metadata": {
    "collapsed": false,
    "deletable": true,
    "editable": true
   },
   "outputs": [],
   "source": [
    "%matplotlib inline\n",
    "import pandas as pd\n",
    "import numpy as np\n",
    "import matplotlib.pyplot as plt\n",
    "from sklearn.metrics import mean_squared_error, r2_score\n",
    "from sklearn.linear_model import LinearRegression, Lasso, LassoCV, Ridge, RidgeCV\n",
    "import sqlite3\n",
    "import seaborn as sns\n",
    "from feateng import standard_formatting as standard_formatting"
   ]
  },
  {
   "cell_type": "markdown",
   "metadata": {
    "deletable": true,
    "editable": true
   },
   "source": [
    "# Overview\n",
    "I. Format data <br>\n",
    "II. Models <br>\n",
    "III. Feature engineering and model fitting <br>\n",
    "IV. Model evaluation <br>\n"
   ]
  },
  {
   "cell_type": "markdown",
   "metadata": {
    "deletable": true,
    "editable": true
   },
   "source": [
    "# I. Format data\n",
    "The data are split into a training and test set.  The training set uses data from 10-30-2016 to 12-31-2016 and the test set uses data from 1-1-2017 to 1-11-2016.  Here we remove duplicate values in the test set."
   ]
  },
  {
   "cell_type": "markdown",
   "metadata": {
    "deletable": true,
    "editable": true
   },
   "source": [
    "### Load the data from the database"
   ]
  },
  {
   "cell_type": "code",
   "execution_count": 3,
   "metadata": {
    "collapsed": false,
    "deletable": true,
    "editable": true
   },
   "outputs": [],
   "source": [
    "#load data from the sqlite database.  \n",
    "db_name = 'streeteasy_db.sqlite'\n",
    "train_table_name = 'train_data'\n",
    "test_table_name = 'test_data'\n",
    "con = sqlite3.connect(db_name)\n",
    "df_train = pd.read_sql(\"SELECT * FROM %s\" % (train_table_name),con)\n",
    "df_test = pd.read_sql(\"SELECT * FROM %s\" % (test_table_name),con)\n",
    "#use only new listings in the test set not found in the training set\n",
    "df_test = df_test[~df_test['data_id'].isin(df_train['data_id'])]\n",
    "#create a 'test' column to indicate membership in test set, then combine\n",
    "df_train['test_set'] = 0\n",
    "df_test['test_set'] = 1\n",
    "df = pd.concat([df_train,df_test],axis = 0)"
   ]
  },
  {
   "cell_type": "markdown",
   "metadata": {
    "deletable": true,
    "editable": true
   },
   "source": [
    "### standard_formatting from the feateng.py module\n",
    "\n",
    "The standard_formatting function from the feateng module will perform preliminary cleaning of the data in preparation for modeling. \n",
    "\n",
    "1. Outlier removal (see exploratory_analysis.ipynb for justification)\n",
    "    - remove prices > $20,000 per month\n",
    "    - remove sq_ft > 10,000\n",
    "    - remove rooms > 15\n",
    "    - remove beds > 8\n",
    "    - remove baths > 6\n",
    "    - remove data_id = 1965895 (incorrect listing)\n",
    "<br><br>\n",
    "2. Drop uninformative columns\n",
    "    - data_id, link, address, realtor, borough\n",
    "<br><br>\n",
    "3. Feature encoding\n",
    "    - One-hot-feature encoding of unit_type and neighborhood\n",
    "<br><br>\n",
    "4. Missing values: \n",
    "    - For sq_ft, rooms, baths, beds, and days_on_streeteasy, recode missing values from -1 to 0 and add a new indicator variable for missing values.  "
   ]
  },
  {
   "cell_type": "code",
   "execution_count": 4,
   "metadata": {
    "collapsed": false,
    "deletable": true,
    "editable": true
   },
   "outputs": [],
   "source": [
    "#get some variable lists before formatting\n",
    "unit_type_list = df['unit_type'].unique()\n",
    "nhood_list_names = df['neighborhood'].unique()\n",
    "#apply standard model formatting\n",
    "df = standard_formatting(df)\n",
    "df = df.drop('index',1)"
   ]
  },
  {
   "cell_type": "markdown",
   "metadata": {
    "deletable": true,
    "editable": true
   },
   "source": [
    "# II. Models\n",
    "\n",
    "For simplicity, only L1-regularized (Lasso) linear regression models are evaluated.  The advantage of this approach is that it is fast, provides interpretable coefficient estimates, and allows for \"built-in\" feature selection by pushing coefficients on uninformative variables to zero.  A disadvantage is that it assumes a linear relationship between all variables and may be sensitive to outliers.  Removal of outliers during preprocessing and exploration of nonlinear feature transformations should mitigate these concerns. \n",
    "\n",
    "Three-fold cross validation is used to select the regularization term.  Here, we explore only three potential values that were identified through preliminary exploration across a broader range.\n",
    "\n",
    "Nonlinear models like SVR with non-linear kernels and decision tree regression can be evaluated in the future to test whether non-linear models perform better.  \n"
   ]
  },
  {
   "cell_type": "markdown",
   "metadata": {
    "deletable": true,
    "editable": true
   },
   "source": [
    "## L1-regularized linear regression (Lasso) with CV"
   ]
  },
  {
   "cell_type": "code",
   "execution_count": 5,
   "metadata": {
    "collapsed": false,
    "deletable": true,
    "editable": true
   },
   "outputs": [],
   "source": [
    "model = LassoCV(alphas = [.01,.1,.15],\n",
    "                 normalize = False,\n",
    "                 max_iter = 10000,\n",
    "                 fit_intercept = True,\n",
    "                 verbose = 1,\n",
    "                 n_jobs = 3)"
   ]
  },
  {
   "cell_type": "markdown",
   "metadata": {
    "deletable": true,
    "editable": true
   },
   "source": [
    "## Model fitting function\n",
    "\n",
    "Here we set up a general function that will fit a sklearn model to training and test data and return some summary statistics.  "
   ]
  },
  {
   "cell_type": "code",
   "execution_count": 6,
   "metadata": {
    "collapsed": true,
    "deletable": true,
    "editable": true
   },
   "outputs": [],
   "source": [
    "def fit_model(model,df_x_train,df_y_train,df_x_test,df_y_test):\n",
    "    \"\"\"\n",
    "    Given some scikit-learn model object, train the model and save some results in a dict.\n",
    "    \n",
    "    Parameters\n",
    "    ----------\n",
    "    model, scikit-learn model object\n",
    "        - e.g., Lasso, LassoCV\n",
    "    df_x_train, dataframe\n",
    "        - dataframe (observations x features) for training set\n",
    "    df_y_train, dataframe\n",
    "        - single column data frame for target variable for training set\n",
    "    df_x_test, dataframe\n",
    "        - dataframe (observations x features) for test set\n",
    "    df_y_test, dataframe\n",
    "        - single column data frame for target variable for test set\n",
    "        \n",
    "    Returns\n",
    "    -------\n",
    "    result, dict with following keys:\n",
    "        - 'pred', dict with 'train' and 'test' keys whose values are predictions for the train and test set, respectively\n",
    "        - 'coef', model coefficients\n",
    "        - 'alpha', best fitting regularization parameter\n",
    "        - 'n_iter', number of iterations during optimization\n",
    "    \"\"\"\n",
    "    #fit the model\n",
    "    model = model.fit(df_x_train,df_y_train)\n",
    "    #save the results in a dict\n",
    "    result = {'pred':{},'coef':[]}\n",
    "    result['pred']['test'] = model.predict(df_x_test)\n",
    "    result['pred']['train'] = model.predict(df_x_train)\n",
    "    result['coef'] = model.coef_\n",
    "    result['alpha'] = model.alpha_\n",
    "    result['n_iter'] = model.n_iter_\n",
    "    #print some summary results\n",
    "    print \"rmse = %2.2f, r2 = %2.3f\" % (np.sqrt(mean_squared_error(df_y_test,result['pred']['test'])), r2_score(df_y_test,result['pred']['test']))\n",
    "    print \"total features included (non-zero weight): %d\" % (np.sum(np.abs(model.coef_)>0))\n",
    "    return result"
   ]
  },
  {
   "cell_type": "markdown",
   "metadata": {
    "deletable": true,
    "editable": true
   },
   "source": [
    "# III. Feature engineering and model fitting\n",
    "\n",
    "We evaluate a series of models defined by increasing sets of features.  These include the following:<br>\n",
    "\n",
    "1. 'reduced': a model that uses only features available through the Streeteasy API (bedrooms, neighborhood, unit type). \n",
    " \n",
    "2. 'scraped': a model that adds additional features scraped from the streeteasy web pages.  For now, amenities and transportation are excluded (sq_ft, bathrooms, total rooms, days on streeteasy).\n",
    "\n",
    "3. 'amen': a model that includes all aforementioned features and also amenities for each listing.\n",
    "\n",
    "4. 'trans\": a model that includes all aforementioned features and also distances to nearby subway stops.\n",
    "\n",
    "5. 'inter': a model that includes all aforementioned features and also interaction terms between neighborhood and several features. "
   ]
  },
  {
   "cell_type": "markdown",
   "metadata": {
    "deletable": true,
    "editable": true
   },
   "source": [
    "### Initialize some variables and functions to generate features"
   ]
  },
  {
   "cell_type": "code",
   "execution_count": 7,
   "metadata": {
    "collapsed": false,
    "deletable": true,
    "editable": true
   },
   "outputs": [],
   "source": [
    "#initialize dicts to save model results and features sets\n",
    "results = {'reduced':[],'scraped':[],'amen':[],'trans':[],'inter':[]}\n",
    "feats = {'reduced':[],'scraped':[],'amen':[],'trans':[],'inter':[]}\n",
    "pred = {'reduced':[],'scraped':[],'amen':[],'trans':[],'inter':[]}\n",
    "#get feature lists for modification\n",
    "nhood_list = [s for s in list(df.columns) if 'neighborhood' in s]\n",
    "amen_list = ['bike_room', 'board_approval_required', 'cats_and_dogs_allowed',\n",
    "             'central_air_conditioning', 'concierge', 'cold_storage', 'community_recreation_facilities',\n",
    "             'children_playroom', 'deck', 'dishwasher', 'doorman', 'elevator', 'full_time_doorman',\n",
    "             'furnished', 'garage_parking', 'green_building', 'gym', 'garden', 'guarantors_accepted',\n",
    "             'laundry_in_building', 'live_in_super', 'loft', 'package_room', 'parking_available',\n",
    "             'patio', 'pets_allowed', 'roof_deck', 'smoke_free', 'storage_available', 'sublet',\n",
    "             'terrace', 'virtual_doorman', 'washer_dryer_in_unit', 'waterview', 'waterfront']\n",
    "trans_list = ['line_A', 'line_C', 'line_E', 'line_B', 'line_D', 'line_F', 'line_M', 'line_G',\n",
    "              'line_L', 'line_J', 'line_Z', 'line_N', 'line_Q', 'line_R', 'line_1', 'line_2',\n",
    "              'line_3', 'line_4', 'line_5', 'line_6', 'line_7', 'line_S', 'LIRR', 'PATH']\n",
    "#initialize function to split train/test\n",
    "def split_train_test(df_all):\n",
    "    \"\"\"\n",
    "    Split the target and predictor variables prior to fitting.\n",
    "    \"\"\"\n",
    "    #split target(y) and predictor(x) variables\n",
    "    df_y = df_all['price']\n",
    "    df_x = df_all.drop(['price'],1)\n",
    "    #split train test sets\n",
    "    df = {'y':{},'x':{}}\n",
    "    df['y']['train'] = df_y[df_x['test_set'] == 0]\n",
    "    df['y']['test'] = df_y[df_x['test_set'] == 1]\n",
    "    df['x']['train'] = df_x[df_x['test_set'] == 0]\n",
    "    df['x']['test'] = df_x[df_x['test_set'] == 1]\n",
    "    #drop test set labels\n",
    "    df['x']['train'] = df['x']['train'].drop('test_set', axis = 1)\n",
    "    df['x']['test'] = df['x']['test'].drop('test_set', axis = 1)\n",
    "    #return the dict of dataframes\n",
    "    return df"
   ]
  },
  {
   "cell_type": "markdown",
   "metadata": {
    "deletable": true,
    "editable": true
   },
   "source": [
    "## Reduced features ('reduced')\n",
    "\n",
    "The Streeteasy API provides some basic information about the median rental prices based on the number of bedrooms, neighborhood, and unit type without the need to scrape data.  We will first evaluate a model that uses only these features to establish a baseline level of performance.  If adding additional scraped variables does not significantly improve the model predictions, then we can save a lot of time by not investing in web scraping!     "
   ]
  },
  {
   "cell_type": "code",
   "execution_count": 8,
   "metadata": {
    "collapsed": false,
    "deletable": true,
    "editable": true
   },
   "outputs": [
    {
     "name": "stderr",
     "output_type": "stream",
     "text": [
      ".........[Parallel(n_jobs=3)]: Done   3 out of   3 | elapsed:    0.6s finished\n"
     ]
    },
    {
     "name": "stdout",
     "output_type": "stream",
     "text": [
      "rmse = 1269.26, r2 = 0.487\n",
      "total features included (non-zero weight): 252\n"
     ]
    }
   ],
   "source": [
    "#other variables to drop\n",
    "drop_cols = ['days_on_streeteasy','sq_ft','rooms','baths','sq_ft_miss','rooms_miss','baths_miss','days_on_streeteasy_miss']\n",
    "#drop amenities, transportation, other variables\n",
    "feats['reduced'] = df.copy()\n",
    "feats['reduced'] = feats['reduced'].drop(amen_list,axis=1)\n",
    "feats['reduced'] = feats['reduced'].drop(trans_list,axis=1)\n",
    "feats['reduced'] = feats['reduced'].drop(drop_cols,axis=1)\n",
    "#split the features and target variable\n",
    "feats['reduced'] = split_train_test(feats['reduced'])\n",
    "#fit model\n",
    "results['reduced'] = fit_model(model, feats['reduced']['x']['train'],feats['reduced']['y']['train'],feats['reduced']['x']['test'],feats['reduced']['y']['test'])"
   ]
  },
  {
   "cell_type": "markdown",
   "metadata": {
    "deletable": true,
    "editable": true
   },
   "source": [
    "## Scraped features, no amenities or transportation ('scraped')\n",
    "\n",
    "Add to the existing feature set additional information that was only obtained by directly scraping it from the streeteasy listing web pages.  These include square feet, days listed on streeteasy, number of total rooms, and number of bathrooms.  We can compare this model to the previous 'reduced' model to test whether the new scraped data significantly improves the quality of fit.  We can compare this model to later models that add additional features to test whether more extensive scraping significantly improves the quality of fit."
   ]
  },
  {
   "cell_type": "code",
   "execution_count": 9,
   "metadata": {
    "collapsed": false,
    "deletable": true,
    "editable": true
   },
   "outputs": [
    {
     "name": "stderr",
     "output_type": "stream",
     "text": [
      ".........[Parallel(n_jobs=3)]: Done   3 out of   3 | elapsed:    0.6s finished\n"
     ]
    },
    {
     "name": "stdout",
     "output_type": "stream",
     "text": [
      "rmse = 960.00, r2 = 0.707\n",
      "total features included (non-zero weight): 248\n"
     ]
    }
   ],
   "source": [
    "#drop neighborhoods\n",
    "feats['scraped'] = df.copy()\n",
    "feats['scraped'] = feats['scraped'].drop(amen_list,axis=1)\n",
    "feats['scraped'] = feats['scraped'].drop(trans_list,axis=1)\n",
    "#split the features and target variable\n",
    "feats['scraped'] = split_train_test(feats['scraped'])\n",
    "#fit model\n",
    "results['scraped'] = fit_model(model, feats['scraped']['x']['train'],feats['scraped']['y']['train'],feats['scraped']['x']['test'],feats['scraped']['y']['test'])"
   ]
  },
  {
   "cell_type": "markdown",
   "metadata": {
    "deletable": true,
    "editable": true
   },
   "source": [
    "## Scraped features plus amenities ('amen')\n",
    "\n",
    "Add features encoding the available amenitites for each listing."
   ]
  },
  {
   "cell_type": "code",
   "execution_count": 10,
   "metadata": {
    "collapsed": false,
    "deletable": true,
    "editable": true
   },
   "outputs": [
    {
     "name": "stderr",
     "output_type": "stream",
     "text": [
      ".........[Parallel(n_jobs=3)]: Done   3 out of   3 | elapsed:    0.7s finished\n"
     ]
    },
    {
     "name": "stdout",
     "output_type": "stream",
     "text": [
      "rmse = 876.94, r2 = 0.755\n",
      "total features included (non-zero weight): 284\n"
     ]
    }
   ],
   "source": [
    "#drop neighborhoods\n",
    "feats['amen'] = df.copy()\n",
    "feats['amen'] = feats['amen'].drop(trans_list,axis=1)\n",
    "#split the features and target variable\n",
    "feats['amen'] = split_train_test(feats['amen'])\n",
    "#fit model\n",
    "results['amen'] = fit_model(model, feats['amen']['x']['train'],feats['amen']['y']['train'],feats['amen']['x']['test'],feats['amen']['y']['test'])"
   ]
  },
  {
   "cell_type": "markdown",
   "metadata": {
    "deletable": true,
    "editable": true
   },
   "source": [
    "## Scraped features plus transportation ('trans')\n",
    "\n",
    "Add features encoding the distance to nearby subway and train lines.  "
   ]
  },
  {
   "cell_type": "code",
   "execution_count": 11,
   "metadata": {
    "collapsed": false,
    "deletable": true,
    "editable": true
   },
   "outputs": [
    {
     "name": "stderr",
     "output_type": "stream",
     "text": [
      ".........[Parallel(n_jobs=3)]: Done   3 out of   3 | elapsed:    0.8s finished\n"
     ]
    },
    {
     "name": "stdout",
     "output_type": "stream",
     "text": [
      "rmse = 874.32, r2 = 0.757\n",
      "total features included (non-zero weight): 311\n"
     ]
    }
   ],
   "source": [
    "#split the features and target variable\n",
    "feats['trans'] = df.copy()\n",
    "feats['trans'] = split_train_test(feats['trans'])\n",
    "#fit model\n",
    "results['trans'] = fit_model(model, feats['trans']['x']['train'],feats['trans']['y']['train'],feats['trans']['x']['test'],feats['trans']['y']['test'])"
   ]
  },
  {
   "cell_type": "markdown",
   "metadata": {
    "deletable": true,
    "editable": true
   },
   "source": [
    "## Interaction features ('inter')\n",
    "\n",
    "Add interaction terms between the neighborhood and the number of rooms, beds, baths, square feet, and days on streeteasy.  Interaction terms for missing data indicator variables are also computed."
   ]
  },
  {
   "cell_type": "code",
   "execution_count": 12,
   "metadata": {
    "collapsed": false,
    "deletable": true,
    "editable": true
   },
   "outputs": [
    {
     "name": "stdout",
     "output_type": "stream",
     "text": [
      "Generating interaction terms...\n",
      "Interaction terms generated.  Fitting model...\n"
     ]
    },
    {
     "name": "stderr",
     "output_type": "stream",
     "text": [
      "/Users/purcelba/anaconda/envs/Python2.7/lib/python2.7/site-packages/sklearn/linear_model/coordinate_descent.py:484: ConvergenceWarning: Objective did not converge. You might want to increase the number of iterations. Fitting data with very small alpha may cause precision problems.\n",
      "  ConvergenceWarning)\n",
      ".........[Parallel(n_jobs=3)]: Done   3 out of   3 | elapsed:  2.0min finished\n"
     ]
    },
    {
     "name": "stdout",
     "output_type": "stream",
     "text": [
      "rmse = 742.37, r2 = 0.824\n",
      "total features included (non-zero weight): 1015\n"
     ]
    }
   ],
   "source": [
    "#copy the dataframe\n",
    "feats['inter'] = df.copy()\n",
    "#create interaction terms between rooms, beds, baths, sq_rt and neighborhood\n",
    "print \"Generating interaction terms...\"\n",
    "col_list = ['rooms','rooms_miss','beds','beds_miss','baths','baths_miss','sq_ft',\n",
    "            'sq_ft_miss','days_on_streeteasy','days_on_streeteasy_miss']\n",
    "for c in col_list:\n",
    "    for n in nhood_list_names:\n",
    "        new_col = '%s_%s' % (c,n)\n",
    "        feats['inter'][new_col] = feats['inter'][c] * feats['inter']['neighborhood_' + n]\n",
    "print \"Interaction terms generated.  Fitting model...\"\n",
    "#split the features and target variable\n",
    "feats['inter'] = split_train_test(feats['inter'])\n",
    "#fit model\n",
    "results['inter'] = fit_model(model, feats['inter']['x']['train'],feats['inter']['y']['train'],feats['inter']['x']['test'],feats['inter']['y']['test'])"
   ]
  },
  {
   "cell_type": "markdown",
   "metadata": {
    "deletable": true,
    "editable": true
   },
   "source": [
    "# IV. Model evaluation"
   ]
  },
  {
   "cell_type": "code",
   "execution_count": 13,
   "metadata": {
    "collapsed": false,
    "deletable": true,
    "editable": true
   },
   "outputs": [],
   "source": [
    "#compute rmse and r2 for each model\n",
    "model_list = results.keys()\n",
    "rmse_list = {}\n",
    "r2_list = {}\n",
    "for m in model_list:\n",
    "    rmse_list[m] = np.sqrt(mean_squared_error(feats[m]['y']['test'],results[m]['pred']['test']))\n",
    "    r2_list[m] = r2_score(feats[m]['y']['test'],results[m]['pred']['test'])\n",
    "#sort by number of params\n",
    "labels = ['reduced','scraped','amen','trans','inter'] #order the labels\n",
    "rmse_sorted = [rmse_list[r] for r in labels]\n",
    "r2_sorted = [r2_list[r] for r in labels]"
   ]
  },
  {
   "cell_type": "markdown",
   "metadata": {
    "deletable": true,
    "editable": true
   },
   "source": [
    "### Cross-validated RMSE\n",
    "\n",
    "Plot the root mean squared error computed for the cross-vaidated test set for each model.  In each case, additional features improve the quality of fit.  The parallel_bootstrap GitHub repository contains code to generate confidence intervals on the model fit statistics to evaluate the statistical significance of these improvements.  \n"
   ]
  },
  {
   "cell_type": "code",
   "execution_count": 14,
   "metadata": {
    "collapsed": false,
    "deletable": true,
    "editable": true
   },
   "outputs": [
    {
     "data": {
      "image/png": "[encoded data removed]",
      "text/plain": [
       "<matplotlib.figure.Figure at 0x11ae55a90>"
      ]
     },
     "metadata": {},
     "output_type": "display_data"
    }
   ],
   "source": [
    "#save flag\n",
    "save_on = False\n",
    "\n",
    "#plot bar graph\n",
    "sns.set_context(\"notebook\", font_scale=1.0)\n",
    "fig = plt.figure(figsize=(8,6))\n",
    "ax = fig.add_axes([.2, .2, .4, .4])\n",
    "sns.set_style(\"ticks\")\n",
    "sns.despine()\n",
    "ind = np.array([1,2,3,4,5])\n",
    "rect = ax.bar(ind,rmse_sorted,width=0.75,edgecolor='k',facecolor=[0,0.4,0.6],linewidth=1)\n",
    "ax.set_xticks(ind+(0.75/2))\n",
    "ax.set_xticklabels(labels,rotation=60)\n",
    "ax.set_xlim([0.5,6])\n",
    "ax.set_ylabel(\"Cross-validated RMSE (USD/mo)\")\n",
    "counter = 0\n",
    "for r in rect:\n",
    "    ax.text(r.get_x() + r.get_width()/2, r.get_height()-100, \n",
    "       '%d' % int(rmse_sorted[counter]), ha='center', va='bottom', color='w', fontweight='bold', fontsize=10)\n",
    "    counter = counter+1\n",
    "#save?\n",
    "if save_on:\n",
    "    plt.savefig('nested_models.pdf',format='pdf')\n",
    "    "
   ]
  },
  {
   "cell_type": "markdown",
   "metadata": {
    "deletable": true,
    "editable": true
   },
   "source": [
    "### Cross-validated r-squared\n",
    "\n",
    "R squared values provide a scale free evaluation of the quality of fit.  Note that R squared here is not guaranteed to increase with additional features because here it is computed on a hold-out set that was not used for fitting."
   ]
  },
  {
   "cell_type": "code",
   "execution_count": 18,
   "metadata": {
    "collapsed": false,
    "deletable": true,
    "editable": true
   },
   "outputs": [
    {
     "data": {
      "image/png": "[encoded data removed]",
      "text/plain": [
       "<matplotlib.figure.Figure at 0x11bd66590>"
      ]
     },
     "metadata": {},
     "output_type": "display_data"
    }
   ],
   "source": [
    "#save flag\n",
    "save_on = False\n",
    "#plot\n",
    "fig = plt.figure(figsize=(8,6))\n",
    "ax = fig.add_axes([.2, .2, .4, .4])\n",
    "sns.set_style(\"ticks\")\n",
    "sns.despine()\n",
    "ind = np.array([1,2,3,4,5])\n",
    "rect = ax.bar(ind,r2_sorted,width=0.75,edgecolor='k',facecolor=[0,0.4,0.6],linewidth=1)\n",
    "ax.set_xticks(ind+(0.75/2))\n",
    "ax.set_xticklabels(labels,rotation=60)\n",
    "ax.set_xlim([0.5,6])\n",
    "ax.set_ylabel(\"% Variance Explained (Cross-validated)\")\n",
    "counter = 0\n",
    "#save?\n",
    "if save_on:\n",
    "    plt.savefig('nested_models.pdf',format='pdf')\n"
   ]
  },
  {
   "cell_type": "markdown",
   "metadata": {
    "collapsed": false,
    "deletable": true,
    "editable": true
   },
   "source": [
    "### Prediction error analysis\n",
    "Are there systematic misses in model predictions?"
   ]
  },
  {
   "cell_type": "code",
   "execution_count": 19,
   "metadata": {
    "collapsed": false,
    "deletable": true,
    "editable": true
   },
   "outputs": [],
   "source": [
    "#Compute residuals, save in dataframe\n",
    "pred = results['inter']['pred']['test']\n",
    "true = feats['inter']['y']['test']\n",
    "x = feats['inter']['x']['test']\n",
    "resid = pd.DataFrame(pred - true).rename(columns = {'price': 'resid'})\n",
    "resid['price'] = true\n",
    "resid['pred'] = pred"
   ]
  },
  {
   "cell_type": "markdown",
   "metadata": {
    "deletable": true,
    "editable": true
   },
   "source": [
    "The overall distribution of prediction errors is symmetrical.  "
   ]
  },
  {
   "cell_type": "code",
   "execution_count": 20,
   "metadata": {
    "collapsed": false,
    "deletable": true,
    "editable": true
   },
   "outputs": [
    {
     "data": {
      "text/plain": [
       "<matplotlib.text.Text at 0x11b63b710>"
      ]
     },
     "execution_count": 20,
     "metadata": {},
     "output_type": "execute_result"
    },
    {
     "data": {
      "image/png": "[encoded data removed]",
      "text/plain": [
       "<matplotlib.figure.Figure at 0x103278e90>"
      ]
     },
     "metadata": {},
     "output_type": "display_data"
    }
   ],
   "source": [
    "#histogram of residuals\n",
    "from scipy.stats import norm\n",
    "bins_ = np.arange(-10000,10000,200)\n",
    "ax = sns.distplot(resid['resid'],bins=bins_,kde = True)\n",
    "sns.despine()\n",
    "ax.set_xlim([-3000,3000])\n",
    "ax.set_ylabel('Probability')\n",
    "#good, histogram is roughly symmetrical and normal, nothing systematic about model misses\n"
   ]
  },
  {
   "cell_type": "markdown",
   "metadata": {
    "deletable": true,
    "editable": true
   },
   "source": [
    "The model tends to overpredict the price of very expensive rentals (>$10,000/month).  A separate model, a nonlinear model, or additional transformations of the data may be needed to accurately model these very expensive listings.  For now, we should be cautious about interpreting predictions in this range.  "
   ]
  },
  {
   "cell_type": "code",
   "execution_count": 21,
   "metadata": {
    "collapsed": false,
    "deletable": true,
    "editable": true
   },
   "outputs": [
    {
     "data": {
      "text/plain": [
       "(0, 20000)"
      ]
     },
     "execution_count": 21,
     "metadata": {},
     "output_type": "execute_result"
    },
    {
     "data": {
      "image/png": "[encoded data removed]",
      "text/plain": [
       "<matplotlib.figure.Figure at 0x103278ed0>"
      ]
     },
     "metadata": {},
     "output_type": "display_data"
    }
   ],
   "source": [
    "#residuals by price\n",
    "ax = sns.regplot(resid['price'],resid['resid'],fit_reg = False)\n",
    "sns.despine()\n",
    "ax.plot([0,20000],[0,0],'k')\n",
    "ax.set_xlim([0,20000])"
   ]
  }
 ],
 "metadata": {
  "kernelspec": {
   "display_name": "Python 2",
   "language": "python",
   "name": "python2"
  },
  "language_info": {
   "codemirror_mode": {
    "name": "ipython",
    "version": 2
   },
   "file_extension": ".py",
   "mimetype": "text/x-python",
   "name": "python",
   "nbconvert_exporter": "python",
   "pygments_lexer": "ipython2",
   "version": "2.7.12"
  }
 },
 "nbformat": 4,
 "nbformat_minor": 0
}
